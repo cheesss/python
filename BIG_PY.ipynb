{
  "nbformat": 4,
  "nbformat_minor": 0,
  "metadata": {
    "colab": {
      "name": "BIG_PY.ipynb",
      "provenance": [],
      "collapsed_sections": [],
      "authorship_tag": "ABX9TyNTwWP9NHcFsVtA6i7NZjy1",
      "include_colab_link": true
    },
    "kernelspec": {
      "name": "python3",
      "display_name": "Python 3"
    },
    "language_info": {
      "name": "python"
    }
  },
  "cells": [
    {
      "cell_type": "markdown",
      "metadata": {
        "id": "view-in-github",
        "colab_type": "text"
      },
      "source": [
        "<a href=\"https://colab.research.google.com/github/cheesss/python/blob/main/BIG_PY.ipynb\" target=\"_parent\"><img src=\"https://colab.research.google.com/assets/colab-badge.svg\" alt=\"Open In Colab\"/></a>"
      ]
    },
    {
      "cell_type": "code",
      "source": [
        "1+1\n"
      ],
      "metadata": {
        "colab": {
          "base_uri": "https://localhost:8080/"
        },
        "id": "lfIwPCHsns_U",
        "outputId": "f09b8f27-b479-48e1-c573-0f3682b62c31"
      },
      "execution_count": null,
      "outputs": [
        {
          "output_type": "execute_result",
          "data": {
            "text/plain": [
              "2"
            ]
          },
          "metadata": {},
          "execution_count": 1
        }
      ]
    },
    {
      "cell_type": "code",
      "source": [
        ""
      ],
      "metadata": {
        "id": "MXvITk_5ouiE"
      },
      "execution_count": null,
      "outputs": []
    },
    {
      "cell_type": "code",
      "source": [
        "None = 10"
      ],
      "metadata": {
        "colab": {
          "base_uri": "https://localhost:8080/",
          "height": 136
        },
        "id": "aH4ooItvnyv2",
        "outputId": "ecfffe9b-4f82-47f2-caca-771317a2b13e"
      },
      "execution_count": null,
      "outputs": [
        {
          "output_type": "error",
          "ename": "SyntaxError",
          "evalue": "ignored",
          "traceback": [
            "\u001b[0;36m  File \u001b[0;32m\"<ipython-input-3-f914dbb6ae5e>\"\u001b[0;36m, line \u001b[0;32m1\u001b[0m\n\u001b[0;31m    None = 10\u001b[0m\n\u001b[0m             ^\u001b[0m\n\u001b[0;31mSyntaxError\u001b[0m\u001b[0;31m:\u001b[0m can't assign to keyword\n"
          ]
        }
      ]
    },
    {
      "cell_type": "code",
      "source": [
        "None1 = 10\n",
        "import"
      ],
      "metadata": {
        "id": "rSOBwCwBn8Bk"
      },
      "execution_count": null,
      "outputs": []
    },
    {
      "cell_type": "code",
      "source": [
        "num = 10"
      ],
      "metadata": {
        "id": "nQZ0iYofrBFT"
      },
      "execution_count": null,
      "outputs": []
    },
    {
      "cell_type": "code",
      "source": [
        "5 < num < 30 #이런것도 된다."
      ],
      "metadata": {
        "colab": {
          "base_uri": "https://localhost:8080/"
        },
        "id": "jpkKGgzxrJcL",
        "outputId": "4dde2d7c-f06f-4f68-a9dd-66b2e1d88467"
      },
      "execution_count": null,
      "outputs": [
        {
          "output_type": "execute_result",
          "data": {
            "text/plain": [
              "True"
            ]
          },
          "metadata": {},
          "execution_count": 9
        }
      ]
    },
    {
      "cell_type": "code",
      "source": [
        "PI = 3.14\n",
        "r = 5\n",
        "v = 4/3 * PI *r**3\n",
        "print(v)"
      ],
      "metadata": {
        "id": "PwqELZy_raV8",
        "colab": {
          "base_uri": "https://localhost:8080/"
        },
        "outputId": "d5de7781-d2e5-453b-c1e7-e49fb67e0dad"
      },
      "execution_count": null,
      "outputs": [
        {
          "output_type": "stream",
          "name": "stdout",
          "text": [
            "523.3333333333334\n"
          ]
        }
      ]
    },
    {
      "cell_type": "code",
      "source": [
        "p=24.95\n",
        "sp = p * 0.6\n",
        "num = 60\n",
        "basongbee = 0.75\n",
        "total = (sp * num) + (basongbee*num)\n",
        "print(total)"
      ],
      "metadata": {
        "colab": {
          "base_uri": "https://localhost:8080/"
        },
        "id": "o6-H-1ETzPQa",
        "outputId": "baf65294-0a34-49cb-d837-c11f269b35ea"
      },
      "execution_count": null,
      "outputs": [
        {
          "output_type": "stream",
          "name": "stdout",
          "text": [
            "943.1999999999999\n"
          ]
        }
      ]
    },
    {
      "cell_type": "code",
      "source": [
        "not ( 300 or ( False ) )"
      ],
      "metadata": {
        "colab": {
          "base_uri": "https://localhost:8080/"
        },
        "id": "dyS_cv1X0ay7",
        "outputId": "300711d3-ffdd-4ea5-b6ca-0caa7f10bf1e"
      },
      "execution_count": null,
      "outputs": [
        {
          "output_type": "execute_result",
          "data": {
            "text/plain": [
              "False"
            ]
          },
          "metadata": {},
          "execution_count": 4
        }
      ]
    },
    {
      "cell_type": "code",
      "source": [
        "print(\"판단하고싶은 년도를 입력하시오: \")\n",
        "y = float(input())\n",
        "if (y%4 == 0) :\n",
        "    if(y%100 == 0) :\n",
        "      if (y%400 == 0):\n",
        "        print(y,\"는 윤년입니다.\")\n",
        "    else:\n",
        "      print(y,\"는 윤년이 아닙니다.\")\n",
        "else:\n",
        "    print(y,\"는 윤년이 아닙니다.\")"
      ],
      "metadata": {
        "colab": {
          "base_uri": "https://localhost:8080/"
        },
        "id": "RkMfobK00p_s",
        "outputId": "608179b6-afa9-4ceb-9803-d3343339857d"
      },
      "execution_count": null,
      "outputs": [
        {
          "output_type": "stream",
          "name": "stdout",
          "text": [
            "판단하고싶은 년도를 입력하시오: \n",
            "400\n",
            "400.0 는 윤년입니다.\n"
          ]
        }
      ]
    },
    {
      "cell_type": "code",
      "source": [
        ""
      ],
      "metadata": {
        "id": "NT1C_KqgBwgh"
      },
      "execution_count": null,
      "outputs": []
    },
    {
      "cell_type": "code",
      "source": [
        "k = 80\n",
        "e = 75\n",
        "m = 55\n",
        "avg = (k+e+m)/3\n",
        "print(avg)\n"
      ],
      "metadata": {
        "colab": {
          "base_uri": "https://localhost:8080/"
        },
        "id": "k-xZHsWHHs-J",
        "outputId": "926776e2-affb-43ce-c650-600713dd41ec"
      },
      "execution_count": null,
      "outputs": [
        {
          "output_type": "stream",
          "name": "stdout",
          "text": [
            "70.0\n"
          ]
        }
      ]
    },
    {
      "cell_type": "code",
      "source": [
        "if(13%2 == 0):\n",
        "  print(\"13은 짝수입니다\")\n",
        "else:\n",
        "  print(\"13은 홀수입니다\")"
      ],
      "metadata": {
        "colab": {
          "base_uri": "https://localhost:8080/"
        },
        "id": "jSReq8MnIGqh",
        "outputId": "a5de7e6c-30a4-4213-df98-d7fe6d5e2546"
      },
      "execution_count": null,
      "outputs": [
        {
          "output_type": "stream",
          "name": "stdout",
          "text": [
            "13은 홀수입니다\n"
          ]
        }
      ]
    },
    {
      "cell_type": "code",
      "source": [
        "not 1+1 == y or x == 4 and 7 == 8"
      ],
      "metadata": {
        "colab": {
          "base_uri": "https://localhost:8080/"
        },
        "id": "439uog41Iu_A",
        "outputId": "bba182a3-64be-406d-aaa0-8fd041c40270"
      },
      "execution_count": null,
      "outputs": [
        {
          "output_type": "execute_result",
          "data": {
            "text/plain": [
              "True"
            ]
          },
          "metadata": {},
          "execution_count": 14
        }
      ]
    },
    {
      "cell_type": "code",
      "source": [
        "print(\"화씨 몇도인가요?\")\n",
        "f=float(input())\n",
        "c=(f-32)/1.8\n",
        "print(f,\"는 섭씨로\",c,\" 입니다\")"
      ],
      "metadata": {
        "colab": {
          "base_uri": "https://localhost:8080/"
        },
        "id": "j5EUnAJcI3Qn",
        "outputId": "f2f6d5d3-e4c9-4288-f1ac-879968a368d7"
      },
      "execution_count": null,
      "outputs": [
        {
          "output_type": "stream",
          "name": "stdout",
          "text": [
            "화씨 몇도인가요?\n",
            "50\n",
            "50.0 는 섭씨로 10.0  입니다\n"
          ]
        }
      ]
    },
    {
      "cell_type": "code",
      "source": [
        "print(\"몇 종류의 주식을 갖고있나요?\")\n",
        "num = int(input())\n",
        "i = 1\n",
        "all = 0\n",
        "while i<=num:\n",
        "  print(i,\"번째 종목은 몇개 갖고있나요?\")\n",
        "  m = int(input())\n",
        "  \n",
        "  print(i, \"번째 주식은 몇퍼센트 떨어졌나요?\")\n",
        "  p = float(input())\n",
        "\n",
        "  print(\"이 주식은 한주에 얼마인가요?\")\n",
        "  v = float(input())\n",
        "  all = all + v*m*((100-p)/100)\n",
        "  i = i+1\n",
        "\n",
        "print(\"보유한 주식 총액은 \",all,\"입니다.\")"
      ],
      "metadata": {
        "colab": {
          "base_uri": "https://localhost:8080/"
        },
        "id": "_WB30VPHJ5ch",
        "outputId": "947cae46-e4d0-46ad-fabd-b622c7e672b5"
      },
      "execution_count": null,
      "outputs": [
        {
          "output_type": "stream",
          "name": "stdout",
          "text": [
            "몇 종류의 주식을 갖고있나요?\n",
            "2\n",
            "1 번째 종목은 몇개 갖고있나요?\n",
            "100\n",
            "1 번째 주식은 몇퍼센트 떨어졌나요?\n",
            "5\n",
            "이 주식은 한주에 얼마인가요?\n",
            "89000\n",
            "2 번째 종목은 몇개 갖고있나요?\n",
            "20\n",
            "1 번째 주식은 몇퍼센트 떨어졌나요?\n",
            "10\n",
            "이 주식은 한주에 얼마인가요?\n",
            "751000\n",
            "보유한 주식 총액은  21973000.0 입니다.\n"
          ]
        }
      ]
    },
    {
      "cell_type": "code",
      "source": [
        "1e15"
      ],
      "metadata": {
        "colab": {
          "base_uri": "https://localhost:8080/"
        },
        "id": "4MhYFGnNDovG",
        "outputId": "e615fbb8-316c-498f-da3b-6fb1715198f0"
      },
      "execution_count": 1,
      "outputs": [
        {
          "output_type": "execute_result",
          "data": {
            "text/plain": [
              "1000000000000000.0"
            ]
          },
          "metadata": {},
          "execution_count": 1
        }
      ]
    },
    {
      "cell_type": "code",
      "source": [
        "10e15"
      ],
      "metadata": {
        "id": "owYjkM2PDuvo",
        "outputId": "6e38aa6c-14b6-4641-f8d8-58dce757883a",
        "colab": {
          "base_uri": "https://localhost:8080/"
        }
      },
      "execution_count": 2,
      "outputs": [
        {
          "output_type": "execute_result",
          "data": {
            "text/plain": [
              "1e+16"
            ]
          },
          "metadata": {},
          "execution_count": 2
        }
      ]
    }
  ]
}