{
  "nbformat": 4,
  "nbformat_minor": 0,
  "metadata": {
    "colab": {
      "name": "BIG_PY.ipynb",
      "provenance": [],
      "collapsed_sections": [],
      "authorship_tag": "ABX9TyOOSsnoOsgOpIjuTf35lp85",
      "include_colab_link": true
    },
    "kernelspec": {
      "name": "python3",
      "display_name": "Python 3"
    },
    "language_info": {
      "name": "python"
    }
  },
  "cells": [
    {
      "cell_type": "markdown",
      "metadata": {
        "id": "view-in-github",
        "colab_type": "text"
      },
      "source": [
        "<a href=\"https://colab.research.google.com/github/cheesss/python/blob/main/BIG_PY.ipynb\" target=\"_parent\"><img src=\"https://colab.research.google.com/assets/colab-badge.svg\" alt=\"Open In Colab\"/></a>"
      ]
    },
    {
      "cell_type": "code",
      "source": [
        "1+1\n"
      ],
      "metadata": {
        "colab": {
          "base_uri": "https://localhost:8080/"
        },
        "id": "lfIwPCHsns_U",
        "outputId": "f09b8f27-b479-48e1-c573-0f3682b62c31"
      },
      "execution_count": null,
      "outputs": [
        {
          "output_type": "execute_result",
          "data": {
            "text/plain": [
              "2"
            ]
          },
          "metadata": {},
          "execution_count": 1
        }
      ]
    },
    {
      "cell_type": "code",
      "source": [
        ""
      ],
      "metadata": {
        "id": "MXvITk_5ouiE"
      },
      "execution_count": null,
      "outputs": []
    },
    {
      "cell_type": "code",
      "source": [
        "None = 10"
      ],
      "metadata": {
        "colab": {
          "base_uri": "https://localhost:8080/",
          "height": 136
        },
        "id": "aH4ooItvnyv2",
        "outputId": "ecfffe9b-4f82-47f2-caca-771317a2b13e"
      },
      "execution_count": null,
      "outputs": [
        {
          "output_type": "error",
          "ename": "SyntaxError",
          "evalue": "ignored",
          "traceback": [
            "\u001b[0;36m  File \u001b[0;32m\"<ipython-input-3-f914dbb6ae5e>\"\u001b[0;36m, line \u001b[0;32m1\u001b[0m\n\u001b[0;31m    None = 10\u001b[0m\n\u001b[0m             ^\u001b[0m\n\u001b[0;31mSyntaxError\u001b[0m\u001b[0;31m:\u001b[0m can't assign to keyword\n"
          ]
        }
      ]
    },
    {
      "cell_type": "code",
      "source": [
        "None1 = 10\n",
        "import"
      ],
      "metadata": {
        "id": "rSOBwCwBn8Bk"
      },
      "execution_count": null,
      "outputs": []
    },
    {
      "cell_type": "code",
      "source": [
        "num = 10"
      ],
      "metadata": {
        "id": "nQZ0iYofrBFT"
      },
      "execution_count": null,
      "outputs": []
    },
    {
      "cell_type": "code",
      "source": [
        "5 < num < 30 #이런것도 된다."
      ],
      "metadata": {
        "colab": {
          "base_uri": "https://localhost:8080/"
        },
        "id": "jpkKGgzxrJcL",
        "outputId": "4dde2d7c-f06f-4f68-a9dd-66b2e1d88467"
      },
      "execution_count": null,
      "outputs": [
        {
          "output_type": "execute_result",
          "data": {
            "text/plain": [
              "True"
            ]
          },
          "metadata": {},
          "execution_count": 9
        }
      ]
    },
    {
      "cell_type": "code",
      "source": [
        "PI = 3.14\n",
        "r = 5\n",
        "v = 4/3 * PI *r**3\n",
        "print(v)"
      ],
      "metadata": {
        "id": "PwqELZy_raV8",
        "colab": {
          "base_uri": "https://localhost:8080/"
        },
        "outputId": "d5de7781-d2e5-453b-c1e7-e49fb67e0dad"
      },
      "execution_count": null,
      "outputs": [
        {
          "output_type": "stream",
          "name": "stdout",
          "text": [
            "523.3333333333334\n"
          ]
        }
      ]
    },
    {
      "cell_type": "code",
      "source": [
        "p=24.95\n",
        "sp = p * 0.6\n",
        "num = 60\n",
        "basongbee = 0.75\n",
        "total = (sp * num) + (basongbee*num)\n",
        "print(total)"
      ],
      "metadata": {
        "colab": {
          "base_uri": "https://localhost:8080/"
        },
        "id": "o6-H-1ETzPQa",
        "outputId": "baf65294-0a34-49cb-d837-c11f269b35ea"
      },
      "execution_count": null,
      "outputs": [
        {
          "output_type": "stream",
          "name": "stdout",
          "text": [
            "943.1999999999999\n"
          ]
        }
      ]
    },
    {
      "cell_type": "code",
      "source": [
        "not ( 300 or ( False ) )"
      ],
      "metadata": {
        "colab": {
          "base_uri": "https://localhost:8080/"
        },
        "id": "dyS_cv1X0ay7",
        "outputId": "300711d3-ffdd-4ea5-b6ca-0caa7f10bf1e"
      },
      "execution_count": null,
      "outputs": [
        {
          "output_type": "execute_result",
          "data": {
            "text/plain": [
              "False"
            ]
          },
          "metadata": {},
          "execution_count": 4
        }
      ]
    },
    {
      "cell_type": "code",
      "source": [
        "print(\"판단하고싶은 년도를 입력하시오: \")\n",
        "y = float(input())\n",
        "if (y%4 == 0) :\n",
        "    if(y%100 == 0) :\n",
        "      if (y%400 == 0):\n",
        "        print(y,\"는 윤년입니다.\")\n",
        "    else:\n",
        "      print(y,\"는 윤년이 아닙니다.\")\n",
        "else:\n",
        "    print(y,\"는 윤년이 아닙니다.\")\n",
        "\n",
        "\n",
        "#print( (year %4== 0 ) and (year %100 ≠ 0 ) (year %400 ==0)) 이렇게 요약가능하다"
      ],
      "metadata": {
        "colab": {
          "base_uri": "https://localhost:8080/"
        },
        "id": "RkMfobK00p_s",
        "outputId": "608179b6-afa9-4ceb-9803-d3343339857d"
      },
      "execution_count": null,
      "outputs": [
        {
          "output_type": "stream",
          "name": "stdout",
          "text": [
            "판단하고싶은 년도를 입력하시오: \n",
            "400\n",
            "400.0 는 윤년입니다.\n"
          ]
        }
      ]
    },
    {
      "cell_type": "code",
      "source": [
        ""
      ],
      "metadata": {
        "id": "NT1C_KqgBwgh"
      },
      "execution_count": null,
      "outputs": []
    },
    {
      "cell_type": "code",
      "source": [
        "k = 80\n",
        "e = 75\n",
        "m = 55\n",
        "avg = (k+e+m)/3\n",
        "print(avg)\n"
      ],
      "metadata": {
        "colab": {
          "base_uri": "https://localhost:8080/"
        },
        "id": "k-xZHsWHHs-J",
        "outputId": "926776e2-affb-43ce-c650-600713dd41ec"
      },
      "execution_count": null,
      "outputs": [
        {
          "output_type": "stream",
          "name": "stdout",
          "text": [
            "70.0\n"
          ]
        }
      ]
    },
    {
      "cell_type": "code",
      "source": [
        "if(13%2 == 0):\n",
        "  print(\"13은 짝수입니다\")\n",
        "else:\n",
        "  print(\"13은 홀수입니다\")"
      ],
      "metadata": {
        "colab": {
          "base_uri": "https://localhost:8080/"
        },
        "id": "jSReq8MnIGqh",
        "outputId": "a5de7e6c-30a4-4213-df98-d7fe6d5e2546"
      },
      "execution_count": null,
      "outputs": [
        {
          "output_type": "stream",
          "name": "stdout",
          "text": [
            "13은 홀수입니다\n"
          ]
        }
      ]
    },
    {
      "cell_type": "code",
      "source": [
        "not 1+1 == y or x == 4 and 7 == 8"
      ],
      "metadata": {
        "colab": {
          "base_uri": "https://localhost:8080/"
        },
        "id": "439uog41Iu_A",
        "outputId": "bba182a3-64be-406d-aaa0-8fd041c40270"
      },
      "execution_count": null,
      "outputs": [
        {
          "output_type": "execute_result",
          "data": {
            "text/plain": [
              "True"
            ]
          },
          "metadata": {},
          "execution_count": 14
        }
      ]
    },
    {
      "cell_type": "code",
      "source": [
        "print(\"화씨 몇도인가요?\")\n",
        "f=float(input())\n",
        "c=(f-32)/1.8\n",
        "print(f,\"는 섭씨로\",c,\" 입니다\")"
      ],
      "metadata": {
        "colab": {
          "base_uri": "https://localhost:8080/"
        },
        "id": "j5EUnAJcI3Qn",
        "outputId": "f2f6d5d3-e4c9-4288-f1ac-879968a368d7"
      },
      "execution_count": null,
      "outputs": [
        {
          "output_type": "stream",
          "name": "stdout",
          "text": [
            "화씨 몇도인가요?\n",
            "50\n",
            "50.0 는 섭씨로 10.0  입니다\n"
          ]
        }
      ]
    },
    {
      "cell_type": "code",
      "source": [
        "print(\"몇 종류의 주식을 갖고있나요?\")\n",
        "num = int(input())\n",
        "i = 1\n",
        "all = 0\n",
        "while i<=num:\n",
        "  print(i,\"번째 종목은 몇개 갖고있나요?\")\n",
        "  m = int(input())\n",
        "  \n",
        "  print(i, \"번째 주식은 몇퍼센트 떨어졌나요?\")\n",
        "  p = float(input())\n",
        "\n",
        "  print(\"이 주식은 한주에 얼마인가요?\")\n",
        "  v = float(input())\n",
        "  all = all + v*m*((100-p)/100)\n",
        "  i = i+1\n",
        "\n",
        "print(\"보유한 주식 총액은 \",all,\"입니다.\")"
      ],
      "metadata": {
        "colab": {
          "base_uri": "https://localhost:8080/"
        },
        "id": "_WB30VPHJ5ch",
        "outputId": "947cae46-e4d0-46ad-fabd-b622c7e672b5"
      },
      "execution_count": null,
      "outputs": [
        {
          "output_type": "stream",
          "name": "stdout",
          "text": [
            "몇 종류의 주식을 갖고있나요?\n",
            "2\n",
            "1 번째 종목은 몇개 갖고있나요?\n",
            "100\n",
            "1 번째 주식은 몇퍼센트 떨어졌나요?\n",
            "5\n",
            "이 주식은 한주에 얼마인가요?\n",
            "89000\n",
            "2 번째 종목은 몇개 갖고있나요?\n",
            "20\n",
            "1 번째 주식은 몇퍼센트 떨어졌나요?\n",
            "10\n",
            "이 주식은 한주에 얼마인가요?\n",
            "751000\n",
            "보유한 주식 총액은  21973000.0 입니다.\n"
          ]
        }
      ]
    },
    {
      "cell_type": "code",
      "source": [
        "1e15"
      ],
      "metadata": {
        "colab": {
          "base_uri": "https://localhost:8080/"
        },
        "id": "4MhYFGnNDovG",
        "outputId": "e615fbb8-316c-498f-da3b-6fb1715198f0"
      },
      "execution_count": null,
      "outputs": [
        {
          "output_type": "execute_result",
          "data": {
            "text/plain": [
              "1000000000000000.0"
            ]
          },
          "metadata": {},
          "execution_count": 1
        }
      ]
    },
    {
      "cell_type": "code",
      "source": [
        "1e16"
      ],
      "metadata": {
        "colab": {
          "base_uri": "https://localhost:8080/"
        },
        "id": "owYjkM2PDuvo",
        "outputId": "67774189-ccaa-4a3d-dd75-326722ddf72e"
      },
      "execution_count": null,
      "outputs": [
        {
          "output_type": "execute_result",
          "data": {
            "text/plain": [
              "1e+16"
            ]
          },
          "metadata": {},
          "execution_count": 3
        }
      ]
    },
    {
      "cell_type": "code",
      "source": [
        "0b10"
      ],
      "metadata": {
        "colab": {
          "base_uri": "https://localhost:8080/"
        },
        "id": "LI1iqRpuEaVy",
        "outputId": "a76f7741-3c34-41aa-e04e-f3a737322961"
      },
      "execution_count": null,
      "outputs": [
        {
          "output_type": "execute_result",
          "data": {
            "text/plain": [
              "2"
            ]
          },
          "metadata": {},
          "execution_count": 4
        }
      ]
    },
    {
      "cell_type": "code",
      "source": [
        "'''\n",
        "안녕하세요\n",
        "'''\n",
        "\n",
        "#안녕하세요\n",
        "#위 두문장은 같다\n",
        "\n",
        "print(\"안녕 \\t 안녕\") #탭 입력 제어자이다"
      ],
      "metadata": {
        "colab": {
          "base_uri": "https://localhost:8080/"
        },
        "id": "goZWtd9vYF1l",
        "outputId": "55c3304b-8c9c-4820-bea2-cd276db9bc1f"
      },
      "execution_count": null,
      "outputs": [
        {
          "output_type": "stream",
          "name": "stdout",
          "text": [
            "안녕 \t 안녕\n"
          ]
        }
      ]
    },
    {
      "cell_type": "code",
      "source": [
        "print(\"  ^ ^\\n(')(')\\n  --\")"
      ],
      "metadata": {
        "colab": {
          "base_uri": "https://localhost:8080/"
        },
        "id": "dDHUbI3ejLs3",
        "outputId": "95cc44c6-785b-4c40-f409-523599d68b18"
      },
      "execution_count": null,
      "outputs": [
        {
          "output_type": "stream",
          "name": "stdout",
          "text": [
            "  ^ ^\n",
            "(')(')\n",
            "  --\n"
          ]
        }
      ]
    },
    {
      "cell_type": "code",
      "source": [
        "num = 7\n",
        "print(\"오늘 나는 %d 끼를 먹었습니다\" % num)"
      ],
      "metadata": {
        "colab": {
          "base_uri": "https://localhost:8080/"
        },
        "id": "ByuDToMBk0J4",
        "outputId": "c7f1f11f-7ec3-4940-b4b5-e1330f1531cd"
      },
      "execution_count": null,
      "outputs": [
        {
          "output_type": "stream",
          "name": "stdout",
          "text": [
            "오늘 나는 7 끼를 먹었습니다\n"
          ]
        }
      ]
    },
    {
      "cell_type": "code",
      "source": [
        "num = 7\n",
        "print(\"오늘 나는 %5d 끼를 먹었습니다\" % num)\n",
        "#%뒤에 넣은 숫자만큼 전체 출력 자릿수를 지정할 수 있다"
      ],
      "metadata": {
        "colab": {
          "base_uri": "https://localhost:8080/"
        },
        "id": "0W30rtpcly2g",
        "outputId": "1f609fb8-9ffb-45e5-ec2c-3ad8673fdbfe"
      },
      "execution_count": null,
      "outputs": [
        {
          "output_type": "stream",
          "name": "stdout",
          "text": [
            "오늘 나는     7 끼를 먹었습니다\n"
          ]
        }
      ]
    },
    {
      "cell_type": "code",
      "source": [
        "num = 7\n",
        "print(\"오늘 나는 %-5d 끼를 먹었습니다\" % num)\n",
        "#뒤에 공백이 생긴다"
      ],
      "metadata": {
        "colab": {
          "base_uri": "https://localhost:8080/"
        },
        "id": "vrOT23C4mNg0",
        "outputId": "34c897c7-2019-4992-d88b-a6a580765ec1"
      },
      "execution_count": null,
      "outputs": [
        {
          "output_type": "stream",
          "name": "stdout",
          "text": [
            "오늘 나는 7     끼를 먹었습니다\n"
          ]
        }
      ]
    },
    {
      "cell_type": "code",
      "source": [
        "person1 = '조현준'\n",
        "person2 = '한채린' #채신기술 !\n",
        "print(f\"{person1}는 {person2}와 밥을 먹었습니다\") #f string"
      ],
      "metadata": {
        "colab": {
          "base_uri": "https://localhost:8080/"
        },
        "id": "VT7qNsgDnHEG",
        "outputId": "9d1b8a68-e15a-4fab-aba8-d20fe9dce0a9"
      },
      "execution_count": null,
      "outputs": [
        {
          "output_type": "stream",
          "name": "stdout",
          "text": [
            "조현준는 한채린와 밥을 먹었습니다\n"
          ]
        }
      ]
    },
    {
      "cell_type": "code",
      "source": [
        "a= \"안녕\"*40\n",
        "print(a)"
      ],
      "metadata": {
        "colab": {
          "base_uri": "https://localhost:8080/"
        },
        "id": "_FNsxYGknxm2",
        "outputId": "be71c219-be61-4980-9510-fb9a9d1b2eb0"
      },
      "execution_count": null,
      "outputs": [
        {
          "output_type": "stream",
          "name": "stdout",
          "text": [
            "안녕안녕안녕안녕안녕안녕안녕안녕안녕안녕안녕안녕안녕안녕안녕안녕안녕안녕안녕안녕안녕안녕안녕안녕안녕안녕안녕안녕안녕안녕안녕안녕안녕안녕안녕안녕안녕안녕안녕안녕\n"
          ]
        }
      ]
    },
    {
      "cell_type": "code",
      "source": [
        "print(\"안\"+\"녕\")"
      ],
      "metadata": {
        "colab": {
          "base_uri": "https://localhost:8080/"
        },
        "id": "LferWJG0n93m",
        "outputId": "222bd151-5704-4375-8ca4-2a7621123776"
      },
      "execution_count": null,
      "outputs": [
        {
          "output_type": "stream",
          "name": "stdout",
          "text": [
            "안녕\n"
          ]
        }
      ]
    },
    {
      "cell_type": "code",
      "source": [
        "sentence =\"안녕하세요 조현준입니다\"\n",
        "sentence[2:3]   #출력하고자하는 값 +1부터 시작해야한다"
      ],
      "metadata": {
        "colab": {
          "base_uri": "https://localhost:8080/",
          "height": 35
        },
        "id": "1TLlYGWBplpW",
        "outputId": "08ded64e-6f6e-4828-8644-38109644f4b8"
      },
      "execution_count": null,
      "outputs": [
        {
          "output_type": "execute_result",
          "data": {
            "text/plain": [
              "'하'"
            ],
            "application/vnd.google.colaboratory.intrinsic+json": {
              "type": "string"
            }
          },
          "metadata": {},
          "execution_count": 12
        }
      ]
    },
    {
      "cell_type": "code",
      "source": [
        "print(\"조현준\" in \"안녕하세요 조현준입니다\")"
      ],
      "metadata": {
        "colab": {
          "base_uri": "https://localhost:8080/"
        },
        "id": "QHXpvcoiqrzf",
        "outputId": "41c3c560-73b5-4487-e238-a14cc8dcc44f"
      },
      "execution_count": null,
      "outputs": [
        {
          "output_type": "stream",
          "name": "stdout",
          "text": [
            "True\n"
          ]
        }
      ]
    },
    {
      "cell_type": "code",
      "source": [
        "sentence =\"안녕하세요 조현준입니다\"\n",
        "sentence[:]"
      ],
      "metadata": {
        "colab": {
          "base_uri": "https://localhost:8080/",
          "height": 35
        },
        "id": "BoOA7YFCrcNU",
        "outputId": "1936f724-1505-4efc-9b53-73900d0d8f9b"
      },
      "execution_count": null,
      "outputs": [
        {
          "output_type": "execute_result",
          "data": {
            "text/plain": [
              "'안녕하세요 조현준입니다'"
            ],
            "application/vnd.google.colaboratory.intrinsic+json": {
              "type": "string"
            }
          },
          "metadata": {},
          "execution_count": 14
        }
      ]
    },
    {
      "cell_type": "code",
      "source": [
        "a =\"hello\"\n",
        "print(a.upper())   #비파괴적 함수로 원본 a값은 바뀌지 않는다\n",
        "print(a)"
      ],
      "metadata": {
        "colab": {
          "base_uri": "https://localhost:8080/"
        },
        "id": "9hdoAPc5t4HE",
        "outputId": "b7b6d351-8b50-4847-88b8-ee5b17d971c2"
      },
      "execution_count": null,
      "outputs": [
        {
          "output_type": "stream",
          "name": "stdout",
          "text": [
            "HELLO\n",
            "hello\n"
          ]
        }
      ]
    },
    {
      "cell_type": "code",
      "source": [
        "a=\"안녕안녕하세요\".rfind(\"안녕\")\n",
        "print(a)    #문장의 오른쪽부터 검색"
      ],
      "metadata": {
        "colab": {
          "base_uri": "https://localhost:8080/"
        },
        "id": "lOC9nBxEu4j-",
        "outputId": "05d0be3e-5457-45b4-f1d5-0804cebb343e"
      },
      "execution_count": null,
      "outputs": [
        {
          "output_type": "stream",
          "name": "stdout",
          "text": [
            "2\n"
          ]
        }
      ]
    },
    {
      "cell_type": "code",
      "source": [
        "a=\"10 20 30 40\".split()\n",
        "print(a)      #원하는 기준으로 나누기"
      ],
      "metadata": {
        "colab": {
          "base_uri": "https://localhost:8080/"
        },
        "id": "htpSMAZOvPMW",
        "outputId": "e9187b3b-f7a2-4bd8-c1e4-89264bda4c8c"
      },
      "execution_count": null,
      "outputs": [
        {
          "output_type": "stream",
          "name": "stdout",
          "text": [
            "['10', '20', '30', '40']\n"
          ]
        }
      ]
    },
    {
      "cell_type": "code",
      "source": [
        "\"ptrhon2022\".isalnum() and \"Python\".isupper()"
      ],
      "metadata": {
        "colab": {
          "base_uri": "https://localhost:8080/"
        },
        "id": "d_TfWARnw1hM",
        "outputId": "c9719d1b-e7d5-4b35-f5a6-2e7e8159b490"
      },
      "execution_count": null,
      "outputs": [
        {
          "output_type": "execute_result",
          "data": {
            "text/plain": [
              "False"
            ]
          },
          "metadata": {},
          "execution_count": 24
        }
      ]
    },
    {
      "cell_type": "code",
      "source": [
        "print(\"고려대학교\\t세종캠퍼스\\n창립캠퍼스: 1980년\\n학생 수: 7,240\\n지역 : 충청남도\\n색상 : 크림슨\")"
      ],
      "metadata": {
        "colab": {
          "base_uri": "https://localhost:8080/"
        },
        "id": "OjUGQEl2V7jv",
        "outputId": "b5d4afdc-29b9-465f-d29b-c96134192f97"
      },
      "execution_count": null,
      "outputs": [
        {
          "output_type": "stream",
          "name": "stdout",
          "text": [
            "고려대학교\t세종캠퍼스\n",
            "창립캠퍼스: 1980년\n",
            "학생 수: 7,240\n",
            "지역 : 충청남도\n",
            "색상 : 크림슨\n"
          ]
        }
      ]
    },
    {
      "cell_type": "code",
      "source": [
        "a=\"안녕하세요\"+\"파이썬\"\n",
        "b=\"요파\"\n",
        "if(a.find(b)):\n",
        "  print(True)\n",
        "else:\n",
        "  print(False)"
      ],
      "metadata": {
        "colab": {
          "base_uri": "https://localhost:8080/"
        },
        "id": "X6Zq35HFW5I7",
        "outputId": "548b5e4d-7b91-4f2d-fcc7-b01e0719c5bd"
      },
      "execution_count": null,
      "outputs": [
        {
          "output_type": "stream",
          "name": "stdout",
          "text": [
            "True\n"
          ]
        }
      ]
    },
    {
      "cell_type": "code",
      "source": [
        "a=\"안녕하세요\"+\"파이썬\"\n",
        "b=\"요파\"\n",
        "print(b in a)"
      ],
      "metadata": {
        "colab": {
          "base_uri": "https://localhost:8080/"
        },
        "id": "xEO6yyF3Yw9t",
        "outputId": "8ab20028-a7c3-4989-b3ff-fcee4a7602d9"
      },
      "execution_count": null,
      "outputs": [
        {
          "output_type": "stream",
          "name": "stdout",
          "text": [
            "True\n"
          ]
        }
      ]
    },
    {
      "cell_type": "code",
      "source": [
        "a=\"넌 나만 보면 매일 a busy guy 종일 할 일이 너무 많아\"\n",
        "print(a[12:22])"
      ],
      "metadata": {
        "colab": {
          "base_uri": "https://localhost:8080/"
        },
        "id": "_uEFuO5CYWtf",
        "outputId": "eaa9ecb6-3eef-4e47-bd8a-a1c98b29918a"
      },
      "execution_count": null,
      "outputs": [
        {
          "output_type": "stream",
          "name": "stdout",
          "text": [
            " busy guy \n"
          ]
        }
      ]
    },
    {
      "cell_type": "code",
      "source": [
        "a='Daum KaKao'\n",
        "print(a[5:]+' '+a[0:4])"
      ],
      "metadata": {
        "colab": {
          "base_uri": "https://localhost:8080/"
        },
        "id": "-xsfWoIGYst4",
        "outputId": "a8e7a7c6-b167-4a7b-c039-7630fca41f3e"
      },
      "execution_count": null,
      "outputs": [
        {
          "output_type": "stream",
          "name": "stdout",
          "text": [
            "KaKao Daum\n"
          ]
        }
      ]
    },
    {
      "cell_type": "code",
      "source": [
        "a=\"Hello, Python\"\n",
        "\n",
        "print(f\"{a}의 길이는 {len(a)}입니다\")"
      ],
      "metadata": {
        "colab": {
          "base_uri": "https://localhost:8080/"
        },
        "id": "m685uZxca-su",
        "outputId": "41c09487-29be-4341-d19b-cb097c4edad6"
      },
      "execution_count": null,
      "outputs": [
        {
          "output_type": "stream",
          "name": "stdout",
          "text": [
            "Hello, Python의 길이는 13입니다\n"
          ]
        }
      ]
    },
    {
      "cell_type": "code",
      "source": [
        "a=\"imhungry\"\n",
        "print(a.isalpha())"
      ],
      "metadata": {
        "colab": {
          "base_uri": "https://localhost:8080/"
        },
        "id": "3_89euxddK9o",
        "outputId": "233d0594-fad3-4b8b-cbef-a815a0d5deb8"
      },
      "execution_count": null,
      "outputs": [
        {
          "output_type": "stream",
          "name": "stdout",
          "text": [
            "True\n"
          ]
        }
      ]
    },
    {
      "cell_type": "code",
      "source": [
        "myStr = 'BigPy'\n",
        "print(myStr.upper())\n",
        "print(myStr.lower())\n",
        "print(myStr.swapcase())\n",
        "print(myStr.title())"
      ],
      "metadata": {
        "colab": {
          "base_uri": "https://localhost:8080/"
        },
        "id": "ik7AD4W8eUhh",
        "outputId": "3e6b32a9-5e24-4df2-ec84-5fb6c66af0f6"
      },
      "execution_count": null,
      "outputs": [
        {
          "output_type": "stream",
          "name": "stdout",
          "text": [
            "BIGPY\n",
            "bigpy\n",
            "bIGpY\n",
            "Bigpy\n"
          ]
        }
      ]
    },
    {
      "cell_type": "code",
      "source": [
        "myStr = 'Big Py, Korea University, Big Data'\n",
        "myStr.rfind('Big')"
      ],
      "metadata": {
        "colab": {
          "base_uri": "https://localhost:8080/"
        },
        "id": "ve8rkc2hf36i",
        "outputId": "b15b9dbe-d405-4aab-c3c5-131e65019a7c"
      },
      "execution_count": null,
      "outputs": [
        {
          "output_type": "execute_result",
          "data": {
            "text/plain": [
              "26"
            ]
          },
          "metadata": {},
          "execution_count": 19
        }
      ]
    },
    {
      "cell_type": "code",
      "source": [
        "a=\"5969782550\"\n",
        "b=eval(a)*74200\n",
        "print(\"삼성전자 시가총액은 \",b,\"입니다\")"
      ],
      "metadata": {
        "colab": {
          "base_uri": "https://localhost:8080/"
        },
        "id": "bj2YkWJ6Cs6T",
        "outputId": "12eb1e98-a56a-4dea-8370-febaafb50269"
      },
      "execution_count": null,
      "outputs": [
        {
          "output_type": "stream",
          "name": "stdout",
          "text": [
            "삼성전자 시가총액은  442957865210000 입니다\n"
          ]
        }
      ]
    },
    {
      "cell_type": "code",
      "source": [
        "lang = 'python'\n",
        "lang[0] = 'P'   #문자열은 수정이 불가능하다\n",
        "print(lang)"
      ],
      "metadata": {
        "colab": {
          "base_uri": "https://localhost:8080/",
          "height": 209
        },
        "id": "qCjVrIpYHmaF",
        "outputId": "45b23bcc-0378-4d59-c5c7-066005f23a72"
      },
      "execution_count": null,
      "outputs": [
        {
          "output_type": "error",
          "ename": "TypeError",
          "evalue": "ignored",
          "traceback": [
            "\u001b[0;31m---------------------------------------------------------------------------\u001b[0m",
            "\u001b[0;31mTypeError\u001b[0m                                 Traceback (most recent call last)",
            "\u001b[0;32m<ipython-input-15-ba8eb7824ab8>\u001b[0m in \u001b[0;36m<module>\u001b[0;34m()\u001b[0m\n\u001b[1;32m      1\u001b[0m \u001b[0mlang\u001b[0m \u001b[0;34m=\u001b[0m \u001b[0;34m'python'\u001b[0m\u001b[0;34m\u001b[0m\u001b[0;34m\u001b[0m\u001b[0m\n\u001b[0;32m----> 2\u001b[0;31m \u001b[0mlang\u001b[0m\u001b[0;34m[\u001b[0m\u001b[0;36m0\u001b[0m\u001b[0;34m]\u001b[0m \u001b[0;34m=\u001b[0m \u001b[0;34m'P'\u001b[0m\u001b[0;34m\u001b[0m\u001b[0;34m\u001b[0m\u001b[0m\n\u001b[0m\u001b[1;32m      3\u001b[0m \u001b[0mprint\u001b[0m\u001b[0;34m(\u001b[0m\u001b[0mlang\u001b[0m\u001b[0;34m)\u001b[0m\u001b[0;34m\u001b[0m\u001b[0;34m\u001b[0m\u001b[0m\n",
            "\u001b[0;31mTypeError\u001b[0m: 'str' object does not support item assignment"
          ]
        }
      ]
    },
    {
      "cell_type": "code",
      "source": [
        "print(list(range(1, 20, 0.8)))"
      ],
      "metadata": {
        "colab": {
          "base_uri": "https://localhost:8080/",
          "height": 172
        },
        "id": "PhpOztK6Ros4",
        "outputId": "043cd435-96f9-41d0-e161-e63d93fa4d50"
      },
      "execution_count": null,
      "outputs": [
        {
          "output_type": "error",
          "ename": "TypeError",
          "evalue": "ignored",
          "traceback": [
            "\u001b[0;31m---------------------------------------------------------------------------\u001b[0m",
            "\u001b[0;31mTypeError\u001b[0m                                 Traceback (most recent call last)",
            "\u001b[0;32m<ipython-input-2-537521978e8a>\u001b[0m in \u001b[0;36m<module>\u001b[0;34m()\u001b[0m\n\u001b[0;32m----> 1\u001b[0;31m \u001b[0mprint\u001b[0m\u001b[0;34m(\u001b[0m\u001b[0mlist\u001b[0m\u001b[0;34m(\u001b[0m\u001b[0mrange\u001b[0m\u001b[0;34m(\u001b[0m\u001b[0;36m1\u001b[0m\u001b[0;34m,\u001b[0m \u001b[0;36m20\u001b[0m\u001b[0;34m,\u001b[0m \u001b[0;36m0.8\u001b[0m\u001b[0;34m)\u001b[0m\u001b[0;34m)\u001b[0m\u001b[0;34m)\u001b[0m\u001b[0;34m\u001b[0m\u001b[0;34m\u001b[0m\u001b[0m\n\u001b[0m",
            "\u001b[0;31mTypeError\u001b[0m: 'float' object cannot be interpreted as an integer"
          ]
        }
      ]
    },
    {
      "cell_type": "code",
      "source": [
        "#i =  0 파이썬에선 있어도 되고 없어도 된다\n",
        "sum = 0\n",
        "for i in range(0,7,1): #1은 생략가능 0~6동안 반복\n",
        "  sum= sum + i\n",
        "  print(i, sum)\n",
        "  i = i + 1\n"
      ],
      "metadata": {
        "colab": {
          "base_uri": "https://localhost:8080/"
        },
        "id": "_JCA4TNJay2v",
        "outputId": "2737cfae-f61b-4c5e-8a1c-d9b7e9764b14"
      },
      "execution_count": 10,
      "outputs": [
        {
          "output_type": "stream",
          "name": "stdout",
          "text": [
            "0 0\n",
            "1 1\n",
            "2 3\n",
            "3 6\n",
            "4 10\n",
            "5 15\n",
            "6 21\n"
          ]
        }
      ]
    },
    {
      "cell_type": "code",
      "source": [
        "i = 0\n",
        "sum = 0\n",
        "while(i<7):\n",
        "  sum = sum + i\n",
        "  print(i, sum)\n",
        "  i = i + 1"
      ],
      "metadata": {
        "colab": {
          "base_uri": "https://localhost:8080/"
        },
        "id": "8en3GCf-bSVp",
        "outputId": "9af812aa-ee9c-4d63-b364-e8c5c9a7530a"
      },
      "execution_count": 9,
      "outputs": [
        {
          "output_type": "stream",
          "name": "stdout",
          "text": [
            "0 0\n",
            "1 1\n",
            "2 3\n",
            "3 6\n",
            "4 10\n",
            "5 15\n",
            "6 21\n"
          ]
        }
      ]
    }
  ]
}