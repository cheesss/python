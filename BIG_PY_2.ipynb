{
  "nbformat": 4,
  "nbformat_minor": 0,
  "metadata": {
    "colab": {
      "name": "BIG_PY_2.ipynb",
      "provenance": [],
      "collapsed_sections": [],
      "authorship_tag": "ABX9TyM+JTsL3p+guXrvrXWtNL1N",
      "include_colab_link": true
    },
    "kernelspec": {
      "name": "python3",
      "display_name": "Python 3"
    },
    "language_info": {
      "name": "python"
    }
  },
  "cells": [
    {
      "cell_type": "markdown",
      "metadata": {
        "id": "view-in-github",
        "colab_type": "text"
      },
      "source": [
        "<a href=\"https://colab.research.google.com/github/cheesss/python/blob/main/BIG_PY_2.ipynb\" target=\"_parent\"><img src=\"https://colab.research.google.com/assets/colab-badge.svg\" alt=\"Open In Colab\"/></a>"
      ]
    },
    {
      "cell_type": "code",
      "execution_count": null,
      "metadata": {
        "id": "9fC9AFM2b74A",
        "colab": {
          "base_uri": "https://localhost:8080/"
        },
        "outputId": "2ff363e0-1096-436f-bd1b-bdb18ee7247a"
      },
      "outputs": [
        {
          "output_type": "stream",
          "name": "stdout",
          "text": [
            "1\n",
            "5\n",
            "2\n",
            "7\n",
            "4\n",
            "합: 19\n",
            "평균: 3.8\n"
          ]
        }
      ],
      "source": [
        "a=[]\n",
        "sum = 0\n",
        "for i in range(5):\n",
        "  b = int(input())\n",
        "  a.append(b)\n",
        "  sum = sum + a[i]\n",
        "print(\"합:\",sum)\n",
        "print(\"평균:\",sum/5)"
      ]
    },
    {
      "cell_type": "code",
      "source": [
        "import random\n",
        "myungun = [\"인생은 짧다\",\"학기는 길다\",\"방학은 짧다\", \"종강은 멀다\"]\n",
        "a = random.choice(myungun)\n",
        "print(\"오늘의 명언:\",a)"
      ],
      "metadata": {
        "colab": {
          "base_uri": "https://localhost:8080/"
        },
        "id": "V2VvGC12icvz",
        "outputId": "8b4872ca-7fe7-423b-f964-40d371663db8"
      },
      "execution_count": null,
      "outputs": [
        {
          "output_type": "stream",
          "name": "stdout",
          "text": [
            "오늘의 명언: 종강은 멀다\n"
          ]
        }
      ]
    },
    {
      "cell_type": "code",
      "source": [
        "import random\n",
        "s1=s2=s3=s4=s5=s6=0\n",
        "dice =[1,2,3,4,5,6]\n",
        "for a in range(1000001):\n",
        "  b = random.choice(dice)\n",
        "  if b==1:\n",
        "    s1 += 1\n",
        "  elif b==2:\n",
        "    s2 += 1\n",
        "  elif b==3:\n",
        "    s3 += 1\n",
        "  elif b==4:\n",
        "    s4 += 1\n",
        "  elif b==5:\n",
        "    s5 += 1\n",
        "  else:\n",
        "    s6 += 1\n",
        "print(\"s1, s2, s3, s4, s5, s6 출력횟수\",s1,s2,s3,s4,s5,s6)"
      ],
      "metadata": {
        "colab": {
          "base_uri": "https://localhost:8080/"
        },
        "id": "iYdUd--njn9y",
        "outputId": "9a664b10-8061-4c47-ebca-970de4a499ad"
      },
      "execution_count": null,
      "outputs": [
        {
          "output_type": "stream",
          "name": "stdout",
          "text": [
            "s1, s2, s3, s4, s5, s6 출력횟수 166575 166784 166873 167261 166401 166107\n"
          ]
        }
      ]
    },
    {
      "cell_type": "code",
      "source": [
        "a = []\n",
        "b = int(input(\"입력받을 수 개수:\"))\n",
        "for i in range(b):\n",
        "  a.append(int(input()))\n",
        "\n",
        "while b!=0:\n",
        "  print(a[b-1])\n",
        "  b -= 1"
      ],
      "metadata": {
        "colab": {
          "base_uri": "https://localhost:8080/"
        },
        "id": "i3vq5nWfFcBI",
        "outputId": "29a204dc-8820-40e3-a346-4f940b997ff5"
      },
      "execution_count": null,
      "outputs": [
        {
          "output_type": "stream",
          "name": "stdout",
          "text": [
            "입력받을 수 개수:3\n",
            "1\n",
            "2\n",
            "3\n",
            "3\n",
            "2\n",
            "1\n"
          ]
        }
      ]
    },
    {
      "cell_type": "code",
      "source": [
        "a = int(input(\"N*N의 N:\"))\n",
        "d = [[0] * a for b in range(a)]\n",
        "\n",
        "for i in range(a):\n",
        "  for j in range(a):\n",
        "    d[i][j] = i*j\n",
        "print(d)"
      ],
      "metadata": {
        "colab": {
          "base_uri": "https://localhost:8080/"
        },
        "id": "kRbv66NkXhas",
        "outputId": "b39ca2c1-b9be-4c57-e254-db877ceb5fbd"
      },
      "execution_count": null,
      "outputs": [
        {
          "output_type": "stream",
          "name": "stdout",
          "text": [
            "N*N의 N:3\n",
            "[[0, 0, 0], [0, 1, 2], [0, 2, 4]]\n"
          ]
        }
      ]
    },
    {
      "cell_type": "code",
      "source": [
        "a = 5\n",
        "list1 = []\n",
        "for i in range(5):\n",
        "  c = input(\"단어:\")\n",
        "  list1.append(c)\n",
        "\n",
        "list2 = []\n",
        "a2 = input(\"검색하고 싶은 문장 또는 단어:\")\n",
        "for i in list1:\n",
        "  if a2 in i:\n",
        "    list2.append(i)\n",
        "  else:\n",
        "    pass\n",
        "\n",
        "if len(list2)==0:\n",
        "  print(\"none\")\n",
        "else:\n",
        "  print(list2)"
      ],
      "metadata": {
        "colab": {
          "base_uri": "https://localhost:8080/"
        },
        "id": "rMDcz5_dda2q",
        "outputId": "215469f9-ac6e-4ff7-db9f-5f4048404133"
      },
      "execution_count": null,
      "outputs": [
        {
          "output_type": "stream",
          "name": "stdout",
          "text": [
            "단어:cho\n",
            "단어:hoi\n",
            "단어:qoe\n",
            "단어:ah\n",
            "단어:alo\n",
            "검색하고 싶은 문장 또는 단어:234\n",
            "none\n"
          ]
        }
      ]
    },
    {
      "cell_type": "code",
      "source": [
        "a = []\n",
        "a = list(map(int, input().split()))\n",
        "for i in range(len(a)):\n",
        "  if a[i]%2 == 0:\n",
        "    print(a[i]/2)\n",
        "  else:\n",
        "    print(a[i]*2)"
      ],
      "metadata": {
        "colab": {
          "base_uri": "https://localhost:8080/"
        },
        "id": "EG_VQbPpUh-q",
        "outputId": "6a88125d-1147-447b-e55a-df305154d1ca"
      },
      "execution_count": null,
      "outputs": [
        {
          "output_type": "stream",
          "name": "stdout",
          "text": [
            "123 234 34 4\n",
            "246\n",
            "117.0\n",
            "17.0\n",
            "2.0\n"
          ]
        }
      ]
    },
    {
      "cell_type": "code",
      "source": [
        "a = []\n",
        "b = int(input(\"증가시키고 싶은 값:\"))\n",
        "for i in range(-10,11):\n",
        "  a.append(i+b)\n",
        "  \n",
        "print(a)"
      ],
      "metadata": {
        "colab": {
          "base_uri": "https://localhost:8080/"
        },
        "id": "u8Ajo51qrHbA",
        "outputId": "0c5f1496-7e77-4b3c-ac09-257ef226f099"
      },
      "execution_count": null,
      "outputs": [
        {
          "output_type": "stream",
          "name": "stdout",
          "text": [
            "증가시키고 싶은 값:-3\n",
            "[-13, -12, -11, -10, -9, -8, -7, -6, -5, -4, -3, -2, -1, 0, 1, 2, 3, 4, 5, 6, 7]\n"
          ]
        }
      ]
    },
    {
      "cell_type": "code",
      "source": [
        "a = []\n",
        "a = list(map(int, input().split()))\n",
        "\n",
        "i = len(a) - 1\n",
        "while i !=1:\n",
        "  print(a[i-1])\n",
        "  i -= 1"
      ],
      "metadata": {
        "colab": {
          "base_uri": "https://localhost:8080/"
        },
        "id": "8MCYQC_stGpU",
        "outputId": "26ef5381-bd3e-400c-b76d-1f1372203528"
      },
      "execution_count": null,
      "outputs": [
        {
          "output_type": "stream",
          "name": "stdout",
          "text": [
            "1 2 3 4 5 6 7\n",
            "6\n",
            "5\n",
            "4\n",
            "3\n",
            "2\n"
          ]
        }
      ]
    },
    {
      "cell_type": "code",
      "source": [
        "modelList = [\"2018_GAMODEL001\",\"2016_GAMODEL002\",\"2015_ELMODEL001\",\"2020_MODEL041\",\"2020_MODEL022\",\"2020_MODEL027\",\"2020_MODEL055\",\"2020_MODEL023\"]\n",
        "\n",
        "for a in range(len(modelList)):\n",
        "  if int(modelList[a][3]) >= 9:\n",
        "    if (int(modelList[a][14])+int(modelList[a][13]))%2 ==0:\n",
        "      modelList[a] = \"GAS_\"+modelList[a]\n",
        "    else:\n",
        "      modelList[a] = \"ELEC_\"+modelList[a]\n",
        "  elif modelList[a][5] == \"G\":\n",
        "    modelList[a] = \"GAS_\"+modelList[a]\n",
        "  else:\n",
        "    modelList[a] = \"ELEC_\"+modelList[a]\n",
        "print(modelList)"
      ],
      "metadata": {
        "id": "wLh_TOdU_5Tv",
        "colab": {
          "base_uri": "https://localhost:8080/"
        },
        "outputId": "d065162d-f8ae-4b45-979a-67f4529e1d05"
      },
      "execution_count": null,
      "outputs": [
        {
          "output_type": "stream",
          "name": "stdout",
          "text": [
            "['GAS_2018_GAMODEL001', 'GAS_2016_GAMODEL002', 'ELEC_2015_ELMODEL001', 'ELEC_2020_MODEL041', 'ELEC_2020_MODEL022', 'ELEC_2020_MODEL027', 'ELEC_2020_MODEL055', 'ELEC_2020_MODEL023']\n"
          ]
        }
      ]
    },
    {
      "cell_type": "code",
      "source": [
        "name = {}\n",
        "name[\"cho\"] = \"010-6543-5128\"\n",
        "print(name)"
      ],
      "metadata": {
        "id": "lEMvfWeolcNB"
      },
      "execution_count": null,
      "outputs": []
    },
    {
      "cell_type": "code",
      "source": [
        "!python /test.py"
      ],
      "metadata": {
        "colab": {
          "base_uri": "https://localhost:8080/"
        },
        "id": "YnXDA5Tzm6E7",
        "outputId": "20a21874-4598-476f-96eb-e41c81969e40"
      },
      "execution_count": null,
      "outputs": [
        {
          "output_type": "stream",
          "name": "stdout",
          "text": [
            "hello\n"
          ]
        }
      ]
    },
    {
      "cell_type": "code",
      "source": [
        "T=3\n",
        "case = {}\n",
        "for i in range(1,T+1):\n",
        "  A = int(input())\n",
        "  B = int(input())\n",
        "  plus = A+B\n",
        "  minus = A-B\n",
        "  multiply = A*B\n",
        "  divide  = A/B\n",
        "  case_num = str(\"case#\"+str(i))\n",
        "  case[case_num] = plus, minus, multiply, divide\n",
        "  print(case[case_num])\n",
        "\n",
        "print(case)"
      ],
      "metadata": {
        "colab": {
          "base_uri": "https://localhost:8080/"
        },
        "id": "bF5hxDvH4x3f",
        "outputId": "38f8edd1-f26d-4142-ad3e-348cdc828dfa"
      },
      "execution_count": null,
      "outputs": [
        {
          "output_type": "stream",
          "name": "stdout",
          "text": [
            "43\n",
            "23\n",
            "(66, 20, 989, 1.8695652173913044)\n",
            "12\n",
            "43\n",
            "(55, -31, 516, 0.27906976744186046)\n",
            "53\n",
            "3\n",
            "(56, 50, 159, 17.666666666666668)\n",
            "{'case#1': (66, 20, 989, 1.8695652173913044), 'case#2': (55, -31, 516, 0.27906976744186046), 'case#3': (56, 50, 159, 17.666666666666668)}\n"
          ]
        }
      ]
    },
    {
      "cell_type": "code",
      "source": [
        "ondo = {'요일':'최고기온','월' : '25,5','화':'28.3','수':'33.2','목':'32.1','금':'17.3','토':'35.3','일':'33.3'}\n",
        "print(f'{ondo.keys()}')\n",
        "print(ondo.values())"
      ],
      "metadata": {
        "colab": {
          "base_uri": "https://localhost:8080/"
        },
        "id": "8gBOjmf39TL8",
        "outputId": "796ee9ef-bbdb-448e-b4f0-44cf1f7d711a"
      },
      "execution_count": null,
      "outputs": [
        {
          "output_type": "stream",
          "name": "stdout",
          "text": [
            "dict_keys(['요일', '월', '화', '수', '목', '금', '토', '일'])\n",
            "dict_values(['최고기온', '25,5', '28.3', '33.2', '32.1', '17.3', '35.3', '33.3'])\n"
          ]
        }
      ]
    },
    {
      "cell_type": "code",
      "source": [
        "test_list = []\n",
        "for i in range(2, 99, 2):\n",
        "  test_list.append(i)\n",
        "\n",
        "test_tuple = tuple(test_list)\n",
        "print(test_tuple)"
      ],
      "metadata": {
        "colab": {
          "base_uri": "https://localhost:8080/"
        },
        "id": "0CEa9jsJsNF2",
        "outputId": "b7fbe4cf-18ec-4172-fb08-b831d6eeb7fa"
      },
      "execution_count": null,
      "outputs": [
        {
          "output_type": "stream",
          "name": "stdout",
          "text": [
            "(2, 4, 6, 8, 10, 12, 14, 16, 18, 20, 22, 24, 26, 28, 30, 32, 34, 36, 38, 40, 42, 44, 46, 48, 50, 52, 54, 56, 58, 60, 62, 64, 66, 68, 70, 72, 74, 76, 78, 80, 82, 84, 86, 88, 90, 92, 94, 96, 98)\n"
          ]
        }
      ]
    },
    {
      "cell_type": "code",
      "source": [
        "A = [1, 1, 1, 2, 2, 3, 3, 3, 4, 4, 5]\n",
        "set_A=set(A)\n",
        "list_A2=list(set_A)\n",
        "print(list_A2)"
      ],
      "metadata": {
        "colab": {
          "base_uri": "https://localhost:8080/"
        },
        "id": "od15B1MKvw9w",
        "outputId": "354d996d-d5de-4a84-992e-3103bf1807a3"
      },
      "execution_count": null,
      "outputs": [
        {
          "output_type": "stream",
          "name": "stdout",
          "text": [
            "[1, 2, 3, 4, 5]\n"
          ]
        }
      ]
    },
    {
      "cell_type": "code",
      "source": [
        "my_tuple = (0, 1, 2, 3, 4, 5)\n",
        "my_list = list(my_tuple)\n",
        "print(list(my_tuple))"
      ],
      "metadata": {
        "colab": {
          "base_uri": "https://localhost:8080/"
        },
        "id": "tYTSXQ-8wr7x",
        "outputId": "16641c33-04c2-4eda-fb24-e77b9e30f036"
      },
      "execution_count": null,
      "outputs": [
        {
          "output_type": "stream",
          "name": "stdout",
          "text": [
            "[0, 1, 2, 3, 4, 5]\n"
          ]
        }
      ]
    },
    {
      "cell_type": "code",
      "source": [
        "point = [[5,5],[5,7],[7,5]]\n",
        "x = point[0][0] ^ point[1][0] ^ point[2][0]\n",
        "y = point[0][1] ^ point[1][1] ^ point[2][1]\n",
        "point.append([x,y])\n",
        "print(point)"
      ],
      "metadata": {
        "colab": {
          "base_uri": "https://localhost:8080/"
        },
        "id": "ouOpFWI-xmLV",
        "outputId": "2e788777-9164-4cf1-de50-b1a586e2c722"
      },
      "execution_count": null,
      "outputs": [
        {
          "output_type": "stream",
          "name": "stdout",
          "text": [
            "[[5, 5], [5, 7], [7, 5], [7, 7]]\n"
          ]
        }
      ]
    },
    {
      "cell_type": "code",
      "source": [
        "A = {32, 65, 34, 69, 53}\n",
        "B = {32, 65, 34, 69}\n",
        "if ((A > B) or (B > A)):\n",
        "  print(\"집합 B는 A의 부분집합입니다\")\n",
        "  print(f'교집합은 {A&B}입니다')\n",
        "  print(f'합집합은{A|B}입니다')\n",
        "  List = sorted(list(A|B))\n",
        "  print(f'합집합 정렬결과는 {set(List)}입니다')"
      ],
      "metadata": {
        "colab": {
          "base_uri": "https://localhost:8080/"
        },
        "id": "LNrfuVuX1YZC",
        "outputId": "10785ad2-880a-408d-ab5d-2ba834d665f7"
      },
      "execution_count": null,
      "outputs": [
        {
          "output_type": "stream",
          "name": "stdout",
          "text": [
            "집합 B는 A의 부분집합입니다\n",
            "교집합은 {32, 65, 34, 69}입니다\n",
            "합집합은{32, 65, 34, 69, 53}입니다\n",
            "합집합 정렬결과는 {32, 65, 34, 69, 53}입니다\n"
          ]
        }
      ]
    },
    {
      "cell_type": "code",
      "source": [
        "def hi(name, age= ''):\n",
        "  print(f'my name is {name}, age is{age}')\n",
        "\n",
        "hi(name = 'cho')"
      ],
      "metadata": {
        "colab": {
          "base_uri": "https://localhost:8080/"
        },
        "id": "EzbrNW6qBxGA",
        "outputId": "20ca2e3b-72e5-40c6-fbfb-57274f9ae43c"
      },
      "execution_count": null,
      "outputs": [
        {
          "output_type": "stream",
          "name": "stdout",
          "text": [
            "my name is cho, age is\n"
          ]
        }
      ]
    },
    {
      "cell_type": "code",
      "source": [
        "def plus(n1,n2):\n",
        "  res = n1+n2\n",
        "  return res\n",
        "  print(res, \"입니다\")\n",
        "\n",
        "print(plus(486, 849))\n",
        "#리턴이후에는 함수 내부코드가 더이상 실행되지 않는다."
      ],
      "metadata": {
        "colab": {
          "base_uri": "https://localhost:8080/"
        },
        "id": "-OaI6sV0O01_",
        "outputId": "9c8f82db-f1dc-451c-a09d-05ab05aeb54d"
      },
      "execution_count": null,
      "outputs": [
        {
          "output_type": "stream",
          "name": "stdout",
          "text": [
            "1335\n"
          ]
        }
      ]
    },
    {
      "cell_type": "code",
      "source": [
        "def hi():\n",
        "  n = input()\n",
        "  print('h')\n",
        "  print('m n i ',name,'!')\n",
        "\n",
        "print('자')\n",
        "hi()\n",
        "print(n,'님 안녕')"
      ],
      "metadata": {
        "id": "9MrTJmaOR3qd",
        "colab": {
          "base_uri": "https://localhost:8080/",
          "height": 136
        },
        "outputId": "20b58246-d3f2-43bb-9358-76bc30329da7"
      },
      "execution_count": null,
      "outputs": [
        {
          "output_type": "error",
          "ename": "SyntaxError",
          "evalue": "ignored",
          "traceback": [
            "\u001b[0;36m  File \u001b[0;32m\"<ipython-input-8-f6d9f6e7a9ed>\"\u001b[0;36m, line \u001b[0;32m2\u001b[0m\n\u001b[0;31m    global n = input()\u001b[0m\n\u001b[0m             ^\u001b[0m\n\u001b[0;31mSyntaxError\u001b[0m\u001b[0;31m:\u001b[0m invalid syntax\n"
          ]
        }
      ]
    },
    {
      "cell_type": "code",
      "source": [
        "def fun():\n",
        "  global a,b\n",
        "  a+=2\n",
        "  b*=2\n",
        "  print(a,b)\n",
        "\n",
        "a,b = 5,10\n",
        "for i in range(5):\n",
        "  fun()\n",
        "print(a,b)"
      ],
      "metadata": {
        "colab": {
          "base_uri": "https://localhost:8080/"
        },
        "id": "PcCzb0GWX5zB",
        "outputId": "3a326a51-e985-4a9a-d112-82cb3d8b33d3"
      },
      "execution_count": null,
      "outputs": [
        {
          "output_type": "stream",
          "name": "stdout",
          "text": [
            "7 20\n",
            "9 40\n",
            "11 80\n",
            "13 160\n",
            "15 320\n",
            "15 320\n"
          ]
        }
      ]
    },
    {
      "cell_type": "code",
      "source": [
        "def print_with_smile(a):\n",
        "  print(a,':D')\n",
        "\n",
        "print_with_smile(\"안녕하세요\")"
      ],
      "metadata": {
        "colab": {
          "base_uri": "https://localhost:8080/"
        },
        "id": "Bv_chGF6meLk",
        "outputId": "5219a949-fdbf-4443-c840-2c096145cd59"
      },
      "execution_count": null,
      "outputs": [
        {
          "output_type": "stream",
          "name": "stdout",
          "text": [
            "안녕하세요 :D\n"
          ]
        }
      ]
    },
    {
      "cell_type": "code",
      "source": [
        "def print_upper_price(price):\n",
        "  print(f'상한가는 {price*1.3}입니다')\n",
        "\n",
        "print_upper_price(100)"
      ],
      "metadata": {
        "colab": {
          "base_uri": "https://localhost:8080/"
        },
        "id": "FeARbBQinet-",
        "outputId": "568ae298-3bb2-4c42-92ba-134eb8e09cc8"
      },
      "execution_count": null,
      "outputs": [
        {
          "output_type": "stream",
          "name": "stdout",
          "text": [
            "상한가는 130.0입니다\n"
          ]
        }
      ]
    },
    {
      "cell_type": "code",
      "source": [
        "def print_arithmetic_operation(a, b):\n",
        "  print(f'{a} + {b} = {a+b}')\n",
        "  print(f'{a} - {b} = {a-b}')\n",
        "  print(f'{a} * {b} = {a*b}')\n",
        "  print(f'{a} / {b} = {a/b}')\n",
        "\n",
        "print_arithmetic_operation(2,9)"
      ],
      "metadata": {
        "colab": {
          "base_uri": "https://localhost:8080/"
        },
        "id": "jQDWLE0spZcV",
        "outputId": "8f7bcbfe-b0ab-4ec4-822b-d56772cab8f5"
      },
      "execution_count": null,
      "outputs": [
        {
          "output_type": "stream",
          "name": "stdout",
          "text": [
            "2 + 9 = 11\n",
            "2 - 9 = -7\n",
            "2 * 9 = 18\n",
            "2 / 9 = 0.2222222222222222\n"
          ]
        }
      ]
    },
    {
      "cell_type": "code",
      "source": [
        "def print_max(a,b,c):\n",
        "  if (a>b):\n",
        "    if(a>c):\n",
        "      print(a)\n",
        "    else:\n",
        "      print(c)\n",
        "  elif (b>c):\n",
        "    print(b)\n",
        "  else:\n",
        "    print(c)\n",
        "  \n",
        "print_max(1,2,23)"
      ],
      "metadata": {
        "colab": {
          "base_uri": "https://localhost:8080/"
        },
        "id": "5i6y0HINp_Da",
        "outputId": "e96bcc33-e51c-4800-9c28-57a200825331"
      },
      "execution_count": null,
      "outputs": [
        {
          "output_type": "stream",
          "name": "stdout",
          "text": [
            "23\n"
          ]
        }
      ]
    },
    {
      "cell_type": "code",
      "source": [
        "plus = lambda a,b:print(a+b)\n",
        "plus(1,3)"
      ],
      "metadata": {
        "colab": {
          "base_uri": "https://localhost:8080/"
        },
        "id": "MchJhxHeq_BQ",
        "outputId": "6ca652d6-c5d2-4f88-8b5b-6aecb77594d5"
      },
      "execution_count": null,
      "outputs": [
        {
          "output_type": "stream",
          "name": "stdout",
          "text": [
            "4\n"
          ]
        }
      ]
    },
    {
      "cell_type": "code",
      "source": [
        "class Calculator:\n",
        "  def __init__(self, val):\n",
        "    self.value = 0\n",
        "  def add(self, val):\n",
        "    self.value += val\n",
        "\n",
        "class Calculator1:\n",
        "  \n",
        "  def __init__(self , val):\n",
        "    Calculator().__init__(self, 0)\n",
        "    self.val = 0\n",
        "  def minus(self, val):\n",
        "    self.val -= val"
      ],
      "metadata": {
        "id": "xMIfZnHEU8GS"
      },
      "execution_count": 2,
      "outputs": []
    }
  ]
}