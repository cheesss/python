{
  "nbformat": 4,
  "nbformat_minor": 0,
  "metadata": {
    "colab": {
      "name": "BIG_PY_2.ipynb",
      "provenance": [],
      "collapsed_sections": [],
      "authorship_tag": "ABX9TyMn9v5Gx5+E00k1ofDUYht5",
      "include_colab_link": true
    },
    "kernelspec": {
      "name": "python3",
      "display_name": "Python 3"
    },
    "language_info": {
      "name": "python"
    }
  },
  "cells": [
    {
      "cell_type": "markdown",
      "metadata": {
        "id": "view-in-github",
        "colab_type": "text"
      },
      "source": [
        "<a href=\"https://colab.research.google.com/github/cheesss/python/blob/main/BIG_PY_2.ipynb\" target=\"_parent\"><img src=\"https://colab.research.google.com/assets/colab-badge.svg\" alt=\"Open In Colab\"/></a>"
      ]
    },
    {
      "cell_type": "code",
      "execution_count": null,
      "metadata": {
        "id": "9fC9AFM2b74A",
        "colab": {
          "base_uri": "https://localhost:8080/"
        },
        "outputId": "2ff363e0-1096-436f-bd1b-bdb18ee7247a"
      },
      "outputs": [
        {
          "output_type": "stream",
          "name": "stdout",
          "text": [
            "1\n",
            "5\n",
            "2\n",
            "7\n",
            "4\n",
            "합: 19\n",
            "평균: 3.8\n"
          ]
        }
      ],
      "source": [
        "a=[]\n",
        "sum = 0\n",
        "for i in range(5):\n",
        "  b = int(input())\n",
        "  a.append(b)\n",
        "  sum = sum + a[i]\n",
        "print(\"합:\",sum)\n",
        "print(\"평균:\",sum/5)"
      ]
    },
    {
      "cell_type": "code",
      "source": [
        "import random\n",
        "myungun = [\"인생은 짧다\",\"학기는 길다\",\"방학은 짧다\", \"종강은 멀다\"]\n",
        "a = random.choice(myungun)\n",
        "print(\"오늘의 명언:\",a)"
      ],
      "metadata": {
        "colab": {
          "base_uri": "https://localhost:8080/"
        },
        "id": "V2VvGC12icvz",
        "outputId": "8b4872ca-7fe7-423b-f964-40d371663db8"
      },
      "execution_count": null,
      "outputs": [
        {
          "output_type": "stream",
          "name": "stdout",
          "text": [
            "오늘의 명언: 종강은 멀다\n"
          ]
        }
      ]
    },
    {
      "cell_type": "code",
      "source": [
        "import random\n",
        "s1=s2=s3=s4=s5=s6=0\n",
        "dice =[1,2,3,4,5,6]\n",
        "for a in range(1000001):\n",
        "  b = random.choice(dice)\n",
        "  if b==1:\n",
        "    s1 += 1\n",
        "  elif b==2:\n",
        "    s2 += 1\n",
        "  elif b==3:\n",
        "    s3 += 1\n",
        "  elif b==4:\n",
        "    s4 += 1\n",
        "  elif b==5:\n",
        "    s5 += 1\n",
        "  else:\n",
        "    s6 += 1\n",
        "print(\"s1, s2, s3, s4, s5, s6 출력횟수\",s1,s2,s3,s4,s5,s6)"
      ],
      "metadata": {
        "colab": {
          "base_uri": "https://localhost:8080/"
        },
        "id": "iYdUd--njn9y",
        "outputId": "9a664b10-8061-4c47-ebca-970de4a499ad"
      },
      "execution_count": null,
      "outputs": [
        {
          "output_type": "stream",
          "name": "stdout",
          "text": [
            "s1, s2, s3, s4, s5, s6 출력횟수 166575 166784 166873 167261 166401 166107\n"
          ]
        }
      ]
    },
    {
      "cell_type": "code",
      "source": [
        "a = []\n",
        "b = int(input(\"입력받을 수 개수:\"))\n",
        "for i in range(b):\n",
        "  a.append(int(input()))\n",
        "\n",
        "while b!=0:\n",
        "  print(a[b-1])\n",
        "  b -= 1"
      ],
      "metadata": {
        "colab": {
          "base_uri": "https://localhost:8080/"
        },
        "id": "i3vq5nWfFcBI",
        "outputId": "29a204dc-8820-40e3-a346-4f940b997ff5"
      },
      "execution_count": null,
      "outputs": [
        {
          "output_type": "stream",
          "name": "stdout",
          "text": [
            "입력받을 수 개수:3\n",
            "1\n",
            "2\n",
            "3\n",
            "3\n",
            "2\n",
            "1\n"
          ]
        }
      ]
    },
    {
      "cell_type": "code",
      "source": [
        "a = int(input(\"N*N의 N:\"))\n",
        "d = [[0] * a for b in range(a)]\n",
        "\n",
        "for i in range(a):\n",
        "  for j in range(a):\n",
        "    d[i][j] = i*j\n",
        "print(d)"
      ],
      "metadata": {
        "colab": {
          "base_uri": "https://localhost:8080/"
        },
        "id": "kRbv66NkXhas",
        "outputId": "b39ca2c1-b9be-4c57-e254-db877ceb5fbd"
      },
      "execution_count": null,
      "outputs": [
        {
          "output_type": "stream",
          "name": "stdout",
          "text": [
            "N*N의 N:3\n",
            "[[0, 0, 0], [0, 1, 2], [0, 2, 4]]\n"
          ]
        }
      ]
    },
    {
      "cell_type": "code",
      "source": [
        "a = 5\n",
        "list1 = []\n",
        "for i in range(5):\n",
        "  c = input(\"단어:\")\n",
        "  list1.append(c)\n",
        "\n",
        "list2 = []\n",
        "a2 = input(\"검색하고 싶은 문장 또는 단어:\")\n",
        "for i in list1:\n",
        "  if a2 in i:\n",
        "    list2.append(i)\n",
        "  else:\n",
        "    pass\n",
        "\n",
        "if len(list2)==0:\n",
        "  print(\"none\")\n",
        "else:\n",
        "  print(list2)"
      ],
      "metadata": {
        "colab": {
          "base_uri": "https://localhost:8080/"
        },
        "id": "rMDcz5_dda2q",
        "outputId": "215469f9-ac6e-4ff7-db9f-5f4048404133"
      },
      "execution_count": null,
      "outputs": [
        {
          "output_type": "stream",
          "name": "stdout",
          "text": [
            "단어:cho\n",
            "단어:hoi\n",
            "단어:qoe\n",
            "단어:ah\n",
            "단어:alo\n",
            "검색하고 싶은 문장 또는 단어:234\n",
            "none\n"
          ]
        }
      ]
    },
    {
      "cell_type": "code",
      "source": [
        "a = []\n",
        "a = list(map(int, input().split()))\n",
        "for i in range(len(a)):\n",
        "  if a[i]%2 == 0:\n",
        "    print(a[i]/2)\n",
        "  else:\n",
        "    print(a[i]*2)"
      ],
      "metadata": {
        "colab": {
          "base_uri": "https://localhost:8080/"
        },
        "id": "EG_VQbPpUh-q",
        "outputId": "6a88125d-1147-447b-e55a-df305154d1ca"
      },
      "execution_count": null,
      "outputs": [
        {
          "output_type": "stream",
          "name": "stdout",
          "text": [
            "123 234 34 4\n",
            "246\n",
            "117.0\n",
            "17.0\n",
            "2.0\n"
          ]
        }
      ]
    },
    {
      "cell_type": "code",
      "source": [
        "a = []\n",
        "b = int(input(\"증가시키고 싶은 값:\"))\n",
        "for i in range(-10,11):\n",
        "  a.append(i+b)\n",
        "  \n",
        "print(a)"
      ],
      "metadata": {
        "colab": {
          "base_uri": "https://localhost:8080/"
        },
        "id": "u8Ajo51qrHbA",
        "outputId": "0c5f1496-7e77-4b3c-ac09-257ef226f099"
      },
      "execution_count": null,
      "outputs": [
        {
          "output_type": "stream",
          "name": "stdout",
          "text": [
            "증가시키고 싶은 값:-3\n",
            "[-13, -12, -11, -10, -9, -8, -7, -6, -5, -4, -3, -2, -1, 0, 1, 2, 3, 4, 5, 6, 7]\n"
          ]
        }
      ]
    },
    {
      "cell_type": "code",
      "source": [
        "a = []\n",
        "a = list(map(int, input().split()))\n",
        "\n",
        "i = len(a) - 1\n",
        "while i !=1:\n",
        "  print(a[i-1])\n",
        "  i -= 1"
      ],
      "metadata": {
        "colab": {
          "base_uri": "https://localhost:8080/"
        },
        "id": "8MCYQC_stGpU",
        "outputId": "26ef5381-bd3e-400c-b76d-1f1372203528"
      },
      "execution_count": null,
      "outputs": [
        {
          "output_type": "stream",
          "name": "stdout",
          "text": [
            "1 2 3 4 5 6 7\n",
            "6\n",
            "5\n",
            "4\n",
            "3\n",
            "2\n"
          ]
        }
      ]
    },
    {
      "cell_type": "code",
      "source": [
        "modelList = [\"2018_GAMODEL001\",\"2016_GAMODEL002\",\"2015_ELMODEL001\",\"2020_MODEL041\",\"2020_MODEL022\",\"2020_MODEL027\",\"2020_MODEL055\",\"2020_MODEL023\"]\n",
        "\n",
        "for a in range(len(modelList)):\n",
        "  if int(modelList[a][3]) >= 9:\n",
        "    if (int(modelList[a][14])+int(modelList[a][13]))%2 ==0:\n",
        "      modelList[a] = \"GAS_\"+modelList[a]\n",
        "    else:\n",
        "      modelList[a] = \"ELEC_\"+modelList[a]\n",
        "  elif modelList[a][5] == \"G\":\n",
        "    modelList[a] = \"GAS_\"+modelList[a]\n",
        "  else:\n",
        "    modelList[a] = \"ELEC_\"+modelList[a]\n",
        "print(modelList)"
      ],
      "metadata": {
        "id": "wLh_TOdU_5Tv",
        "colab": {
          "base_uri": "https://localhost:8080/"
        },
        "outputId": "d065162d-f8ae-4b45-979a-67f4529e1d05"
      },
      "execution_count": null,
      "outputs": [
        {
          "output_type": "stream",
          "name": "stdout",
          "text": [
            "['GAS_2018_GAMODEL001', 'GAS_2016_GAMODEL002', 'ELEC_2015_ELMODEL001', 'ELEC_2020_MODEL041', 'ELEC_2020_MODEL022', 'ELEC_2020_MODEL027', 'ELEC_2020_MODEL055', 'ELEC_2020_MODEL023']\n"
          ]
        }
      ]
    },
    {
      "cell_type": "code",
      "source": [
        "name = {}\n",
        "name[\"cho\"] = \"010-6543-5128\"\n",
        "print(name)"
      ],
      "metadata": {
        "id": "lEMvfWeolcNB"
      },
      "execution_count": null,
      "outputs": []
    },
    {
      "cell_type": "code",
      "source": [
        "!python /test.py"
      ],
      "metadata": {
        "colab": {
          "base_uri": "https://localhost:8080/"
        },
        "id": "YnXDA5Tzm6E7",
        "outputId": "20a21874-4598-476f-96eb-e41c81969e40"
      },
      "execution_count": null,
      "outputs": [
        {
          "output_type": "stream",
          "name": "stdout",
          "text": [
            "hello\n"
          ]
        }
      ]
    },
    {
      "cell_type": "code",
      "source": [
        "T=3\n",
        "case = {}\n",
        "for i in range(1,T+1):\n",
        "  A = int(input())\n",
        "  B = int(input())\n",
        "  plus = A+B\n",
        "  minus = A-B\n",
        "  multiply = A*B\n",
        "  divide  = A/B\n",
        "  case_num = str(\"case#\"+str(i))\n",
        "  case[case_num] = plus, minus, multiply, divide\n",
        "  print(case[case_num])\n",
        "\n",
        "print(case)"
      ],
      "metadata": {
        "colab": {
          "base_uri": "https://localhost:8080/"
        },
        "id": "bF5hxDvH4x3f",
        "outputId": "38f8edd1-f26d-4142-ad3e-348cdc828dfa"
      },
      "execution_count": 15,
      "outputs": [
        {
          "output_type": "stream",
          "name": "stdout",
          "text": [
            "43\n",
            "23\n",
            "(66, 20, 989, 1.8695652173913044)\n",
            "12\n",
            "43\n",
            "(55, -31, 516, 0.27906976744186046)\n",
            "53\n",
            "3\n",
            "(56, 50, 159, 17.666666666666668)\n",
            "{'case#1': (66, 20, 989, 1.8695652173913044), 'case#2': (55, -31, 516, 0.27906976744186046), 'case#3': (56, 50, 159, 17.666666666666668)}\n"
          ]
        }
      ]
    },
    {
      "cell_type": "code",
      "source": [
        "ondo = {'요일':'최고기온','월' : '25,5','화':'28.3','수':'33.2','목':'32.1','금':'17.3','토':'35.3','일':'33.3'}\n",
        "print(f'{ondo.keys()}')\n",
        "print(ondo.values())"
      ],
      "metadata": {
        "colab": {
          "base_uri": "https://localhost:8080/"
        },
        "id": "8gBOjmf39TL8",
        "outputId": "796ee9ef-bbdb-448e-b4f0-44cf1f7d711a"
      },
      "execution_count": 29,
      "outputs": [
        {
          "output_type": "stream",
          "name": "stdout",
          "text": [
            "dict_keys(['요일', '월', '화', '수', '목', '금', '토', '일'])\n",
            "dict_values(['최고기온', '25,5', '28.3', '33.2', '32.1', '17.3', '35.3', '33.3'])\n"
          ]
        }
      ]
    }
  ]
}