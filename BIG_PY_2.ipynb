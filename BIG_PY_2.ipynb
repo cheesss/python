{
  "nbformat": 4,
  "nbformat_minor": 0,
  "metadata": {
    "colab": {
      "name": "BIG_PY_2.ipynb",
      "provenance": [],
      "collapsed_sections": [],
      "authorship_tag": "ABX9TyMKyO54HuAwoKTe7uM0lr2i",
      "include_colab_link": true
    },
    "kernelspec": {
      "name": "python3",
      "display_name": "Python 3"
    },
    "language_info": {
      "name": "python"
    }
  },
  "cells": [
    {
      "cell_type": "markdown",
      "metadata": {
        "id": "view-in-github",
        "colab_type": "text"
      },
      "source": [
        "<a href=\"https://colab.research.google.com/github/cheesss/python/blob/main/BIG_PY_2.ipynb\" target=\"_parent\"><img src=\"https://colab.research.google.com/assets/colab-badge.svg\" alt=\"Open In Colab\"/></a>"
      ]
    },
    {
      "cell_type": "code",
      "execution_count": null,
      "metadata": {
        "id": "9fC9AFM2b74A",
        "colab": {
          "base_uri": "https://localhost:8080/"
        },
        "outputId": "2ff363e0-1096-436f-bd1b-bdb18ee7247a"
      },
      "outputs": [
        {
          "output_type": "stream",
          "name": "stdout",
          "text": [
            "1\n",
            "5\n",
            "2\n",
            "7\n",
            "4\n",
            "합: 19\n",
            "평균: 3.8\n"
          ]
        }
      ],
      "source": [
        "a=[]\n",
        "sum = 0\n",
        "for i in range(5):\n",
        "  b = int(input())\n",
        "  a.append(b)\n",
        "  sum = sum + a[i]\n",
        "print(\"합:\",sum)\n",
        "print(\"평균:\",sum/5)"
      ]
    },
    {
      "cell_type": "code",
      "source": [
        "import random\n",
        "myungun = [\"인생은 짧다\",\"학기는 길다\",\"방학은 짧다\", \"종강은 멀다\"]\n",
        "a = random.choice(myungun)\n",
        "print(\"오늘의 명언:\",a)"
      ],
      "metadata": {
        "colab": {
          "base_uri": "https://localhost:8080/"
        },
        "id": "V2VvGC12icvz",
        "outputId": "8b4872ca-7fe7-423b-f964-40d371663db8"
      },
      "execution_count": null,
      "outputs": [
        {
          "output_type": "stream",
          "name": "stdout",
          "text": [
            "오늘의 명언: 종강은 멀다\n"
          ]
        }
      ]
    },
    {
      "cell_type": "code",
      "source": [
        "import random\n",
        "s1=s2=s3=s4=s5=s6=0\n",
        "dice =[1,2,3,4,5,6]\n",
        "for a in range(1000001):\n",
        "  b = random.choice(dice)\n",
        "  if b==1:\n",
        "    s1 += 1\n",
        "  elif b==2:\n",
        "    s2 += 1\n",
        "  elif b==3:\n",
        "    s3 += 1\n",
        "  elif b==4:\n",
        "    s4 += 1\n",
        "  elif b==5:\n",
        "    s5 += 1\n",
        "  else:\n",
        "    s6 += 1\n",
        "print(\"s1, s2, s3, s4, s5, s6 출력횟수\",s1,s2,s3,s4,s5,s6)"
      ],
      "metadata": {
        "colab": {
          "base_uri": "https://localhost:8080/"
        },
        "id": "iYdUd--njn9y",
        "outputId": "9a664b10-8061-4c47-ebca-970de4a499ad"
      },
      "execution_count": null,
      "outputs": [
        {
          "output_type": "stream",
          "name": "stdout",
          "text": [
            "s1, s2, s3, s4, s5, s6 출력횟수 166575 166784 166873 167261 166401 166107\n"
          ]
        }
      ]
    },
    {
      "cell_type": "code",
      "source": [
        "a = []\n",
        "b = int(input(\"입력받을 수 개수:\"))\n",
        "for i in range(b):\n",
        "  a.append(int(input()))\n",
        "\n",
        "while b!=0:\n",
        "  print(a[b-1])\n",
        "  b -= 1"
      ],
      "metadata": {
        "colab": {
          "base_uri": "https://localhost:8080/"
        },
        "id": "i3vq5nWfFcBI",
        "outputId": "29a204dc-8820-40e3-a346-4f940b997ff5"
      },
      "execution_count": 11,
      "outputs": [
        {
          "output_type": "stream",
          "name": "stdout",
          "text": [
            "입력받을 수 개수:3\n",
            "1\n",
            "2\n",
            "3\n",
            "3\n",
            "2\n",
            "1\n"
          ]
        }
      ]
    },
    {
      "cell_type": "code",
      "source": [
        "a=[]\n"
      ],
      "metadata": {
        "id": "kRbv66NkXhas"
      },
      "execution_count": null,
      "outputs": []
    }
  ]
}